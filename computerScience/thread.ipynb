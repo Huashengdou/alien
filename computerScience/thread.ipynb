{
 "cells": [
  {
   "cell_type": "markdown",
   "metadata": {},
   "source": [
    "# 进程\n",
    "- 指一个具有一定独立功能的程序在一个数据集合上的一次动态执行过程\n",
    "- 进程包含了正在运行的一个程序的所有状态信息\n",
    "- 特点：动态性、并发性、独立性、制约性\n",
    "\n",
    "# 进程控制块\n",
    "- 操作系统管理控制进程运行所用的信息集合\n",
    "- 进程的创建、终止、管理等\n",
    "- 进程控制块包含：\n",
    "    - 进程标识信息\n",
    "    - 处理机状态信息保存区，保存进程的运行现场信息：用户可见寄存器，控制和状态寄存器，栈指针\n",
    "    - 进程控制信息：调度状态信息，进程间通信信息，存储管理信息，进程所用资源，有关结构连接信息"
   ]
  }
 ],
 "metadata": {
  "kernelspec": {
   "display_name": "Python 3",
   "language": "python",
   "name": "python3"
  },
  "language_info": {
   "codemirror_mode": {
    "name": "ipython",
    "version": 3
   },
   "file_extension": ".py",
   "mimetype": "text/x-python",
   "name": "python",
   "nbconvert_exporter": "python",
   "pygments_lexer": "ipython3",
   "version": "3.7.3"
  }
 },
 "nbformat": 4,
 "nbformat_minor": 2
}
