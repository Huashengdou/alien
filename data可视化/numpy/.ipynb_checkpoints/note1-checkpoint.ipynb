{
 "cells": [
  {
   "cell_type": "code",
   "execution_count": 23,
   "metadata": {},
   "outputs": [
    {
     "name": "stdout",
     "output_type": "stream",
     "text": [
      "1.640000004954345e-05\n",
      "[729, 513, 347, 225, 141]\n"
     ]
    }
   ],
   "source": [
    "# 计算a的平方加上b的三次方\n",
    "import time\n",
    "\n",
    "def pysum():\n",
    "    start1 = time.perf_counter()\n",
    "    a = [0, 1, 2, 3, 4]\n",
    "    b = [9, 8, 7, 6, 5]\n",
    "    c = []\n",
    "    \n",
    "    for i in range(len(a)):\n",
    "        c.append(a[i]**2 + b[i]**3)\n",
    "    end = time.perf_counter() - start1\n",
    "    print(end)\n",
    "    return c\n",
    "\n",
    "print(pysum())\n",
    "\n"
   ]
  },
  {
   "cell_type": "code",
   "execution_count": 22,
   "metadata": {},
   "outputs": [
    {
     "name": "stdout",
     "output_type": "stream",
     "text": [
      "2.9700000027332862e-05\n",
      "[729 513 347 225 141]\n"
     ]
    }
   ],
   "source": [
    "# 使用Numpy\n",
    "import numpy as np\n",
    "\n",
    "def npSum():\n",
    "    start2 = time.perf_counter()\n",
    "    a = np.array([0, 1, 2, 3, 4])\n",
    "    b = np.array([9, 8, 7, 6, 5])\n",
    "    \n",
    "    c = a**2 + b**3\n",
    "    end2 = time.perf_counter() - start2\n",
    "    print(end2)\n",
    "    return c\n",
    "\n",
    "print(npSum())\n",
    "\n"
   ]
  },
  {
   "cell_type": "code",
   "execution_count": null,
   "metadata": {},
   "outputs": [],
   "source": []
  }
 ],
 "metadata": {
  "kernelspec": {
   "display_name": "Python 3",
   "language": "python",
   "name": "python3"
  },
  "language_info": {
   "codemirror_mode": {
    "name": "ipython",
    "version": 3
   },
   "file_extension": ".py",
   "mimetype": "text/x-python",
   "name": "python",
   "nbconvert_exporter": "python",
   "pygments_lexer": "ipython3",
   "version": "3.7.3"
  }
 },
 "nbformat": 4,
 "nbformat_minor": 2
}
